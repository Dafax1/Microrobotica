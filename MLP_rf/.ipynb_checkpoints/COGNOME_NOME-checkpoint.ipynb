{
 "cells": [
  {
   "cell_type": "markdown",
   "id": "7bbf716f",
   "metadata": {},
   "source": [
    "# Verifica di Microrobotica: machine learning"
   ]
  },
  {
   "cell_type": "markdown",
   "id": "fce2b558",
   "metadata": {},
   "source": [
    "### Nome Cognome"
   ]
  },
  {
   "cell_type": "markdown",
   "id": "1cab8c5e",
   "metadata": {},
   "source": [
    "## Esercizio 1: concessionario di auto\n",
    "Un venditore di automobili vuole classificare i suoi pontenziali clienti in due categorie: quelli che  vogliono acquistare un SUV e quelli che non lo acquisterebbero mai. Ti commissiona un algoritmo di machine learning che sia adatto allo scopo e ti fornisce il dataset storico degli acquirenti nel file `SUV_Purchase.csv` che contiene: \n",
    "* `User ID`: l'identificativo dei clienti\n",
    "* `Gender`: il sesso dei clienti\n",
    "* `Age`: l'età anagrafica dei clienti\n",
    "* `EstimatedSalary`: il salario annuo dei clienti\n",
    "* `Purchased` che vale 1 se il cliente acquista un SUV, 0 altrimenti.\n",
    "\n",
    "Realizza un algoritmo di machine learning di tipo MultiLayer Perceptron adatto allo scopo. **Segui tutte le fasi previste per la creazione di un algoritmo di machine learning e qualora certe fasi non siano utili, spegane il motivo. Motiva anche la scelta delle feature.**\n",
    "\n",
    "PS: non è dato sapere se il concessionario di auto voglia vendere più SUV oppure se non sopporti i SUV..."
   ]
  },
  {
   "cell_type": "markdown",
   "id": "bea6e461",
   "metadata": {},
   "source": [
    "## Esercizio 2: riconoscitore di banconote false\n",
    "\n",
    "Il dataset `banknotes.csv` contiene le misure geometriche di precisione di 200 banconote (` Lengt`,`Right`,`Bottom`,`Top`,`Diagonal`). Inoltre la colonna `conterfeit` vale 1 se la banconota è contraffatta. Si vuole implementare un algoritmo in grado di eseguire su di una macchinetta portatile con bassa potenza di calcolo ma che abbia il 100% di accuratezza. Realizza un classificatore random forest adatto allo scopo e:\n",
    "* calcola la profondità minima degli alberi che permetta un'accuratezza del 100%\n",
    "* calcola l'importanza delle diverse feature\n",
    "* riaddrestra il modello facendo uso delle feature che rilevi come quelle più importanti.\n",
    "\n",
    "**Segui tutte le fasi previste per la creazione di un algoritmo di machine learning e qualora certe fasi non siano utili, spegane il motivo.**"
   ]
  },
  {
   "cell_type": "code",
   "execution_count": null,
   "id": "1a6c7af1",
   "metadata": {},
   "outputs": [],
   "source": []
  }
 ],
 "metadata": {
  "kernelspec": {
   "display_name": "Python 3 (ipykernel)",
   "language": "python",
   "name": "python3"
  },
  "language_info": {
   "codemirror_mode": {
    "name": "ipython",
    "version": 3
   },
   "file_extension": ".py",
   "mimetype": "text/x-python",
   "name": "python",
   "nbconvert_exporter": "python",
   "pygments_lexer": "ipython3",
   "version": "3.8.8"
  }
 },
 "nbformat": 4,
 "nbformat_minor": 5
}
